{
  "nbformat": 4,
  "nbformat_minor": 0,
  "metadata": {
    "colab": {
      "name": "ANITA_SHARMA_Copy of LSDS Intro Assignment 1 - Garrett Mayock",
      "provenance": [],
      "collapsed_sections": [],
      "include_colab_link": true
    },
    "kernelspec": {
      "name": "python3",
      "display_name": "Python 3"
    }
  },
  "cells": [
    {
      "cell_type": "markdown",
      "metadata": {
        "id": "view-in-github",
        "colab_type": "text"
      },
      "source": [
        "<a href=\"https://colab.research.google.com/github/anitashar/DS-Unit-1-Sprint-1-Data-Wrangling-and-Storytelling/blob/master/ANITA_SHARMA_Copy_of_LSDS_Intro_Assignment_1_Garrett_Mayock.ipynb\" target=\"_parent\"><img src=\"https://colab.research.google.com/assets/colab-badge.svg\" alt=\"Open In Colab\"/></a>"
      ]
    },
    {
      "cell_type": "markdown",
      "metadata": {
        "id": "51dZwqDNc9x6",
        "colab_type": "text"
      },
      "source": [
        "# Lambda School Data Science - Getting Started with Python\n",
        "\n",
        "Following are exercises you should complete after watching the first intro lecture. Workflow:\n",
        "\n",
        "1. Sign in to a Google account\n",
        "2. Copy the notebook (`File` -> `Save a copy in Drive`)\n",
        "3. Complete the exercises! This means fill out the code cells, and run them (shift-enter or click the play button that appears when you're in one of them)\n",
        "4. Take a look at your work, and write comments/add text cells as appropriate to explain\n",
        "5. Make the notebook URL viewable and submit with the standup form"
      ]
    },
    {
      "cell_type": "markdown",
      "metadata": {
        "id": "I6biutgwdgpb",
        "colab_type": "text"
      },
      "source": [
        "## Exercise 1 - A bit of Math\n",
        "\n",
        "For these \"word\" problems, use Python to clearly solve them. Your code will \"show your work\" - use good variable names! To show your answers you should write a `print()` statement at the end.\n",
        "\n",
        "As you work, follow the **20 minute rule** - that means if you're stuck on something for 20 minutes, you should ask a question!\n",
        "\n",
        "### a) It's a gas\n",
        "\n",
        "A taxi driver is calculating their profit over two weeks by adding up the fares they charge and subtracting the cost of gas. The price of gas changes over time - it was `$3.52`/gallon the first week and `$3.57`/gallon this second week. Their car gets 20 miles per gallon.\n",
        "\n",
        "For the first week the driver had a total of 23 passengers with average `$29` fare each, and drove a total of 160 miles. For the second week they had 17 passengers with average `$30` fare each, and drove a total of 220 miles. Assume that for both weeks they purchase all the gas needed during that week (i.e. they refuel every week to maintain a constant level of gas in the tank).\n",
        "\n",
        "Based on the above, answer the following questions:\n",
        "\n",
        "- What is their total profit over both weeks?\n",
        "- During which week was their average (mean) profit per passenger higher?\n"
      ]
    },
    {
      "cell_type": "code",
      "metadata": {
        "id": "CWJeYQW6AoGf",
        "colab_type": "code",
        "outputId": "5ed8b220-8609-4fbb-8517-d9cb15b6a694",
        "colab": {
          "base_uri": "https://localhost:8080/",
          "height": 90
        }
      },
      "source": [
        "# TODO your code here!\n",
        "\n",
        "price_1 = 3.52\n",
        "price_2 = 3.57\n",
        "miles_1 = 160\n",
        "customers_1 = 23\n",
        "customers_2 = 17\n",
        "average_fare_1 = 29\n",
        "average_fare_2 = 30\n",
        "week_1_cost = customers_1*average_fare_1\n",
        "week_2_cost = customers_2*average_fare_2\n",
        "miles_2 = 220\n",
        "mpg = 20\n",
        "gallons_used_2 = miles_2/mpg\n",
        "gallons_used_1 = miles_1/mpg\n",
        "profit_1 = week_1_cost - gallons_used_1*price_1\n",
        "profit_2 = week_2_cost - gallons_used_2*price_2\n",
        "print(\"Profit week 1 $\", profit_1, \"\\nProfit week 2 $\", profit_2)\n",
        "\n",
        "mean_profit_1 = round(profit_1/customers_1,2)\n",
        "\n",
        "mean_profit_2 = round(profit_2/customers_2,2)\n",
        "print(\"Mean profit week 1 $\", mean_profit_1, \"\\nMean profit week 2 $\", mean_profit_2)"
      ],
      "execution_count": 0,
      "outputs": [
        {
          "output_type": "stream",
          "text": [
            "Profit week 1 $ 638.84 \n",
            "Profit week 2 $ 470.73\n",
            "Mean profit week 1 $ 27.78 \n",
            "Mean profit week 2 $ 27.69\n"
          ],
          "name": "stdout"
        }
      ]
    },
    {
      "cell_type": "markdown",
      "metadata": {
        "id": "0l4bUPHmR5Ko",
        "colab_type": "text"
      },
      "source": [
        "### b) Mo' money...\n",
        "\n",
        "A cash drawer contains 160 bills, all 10s and 50s. The total value of the 10s and 50s is $1,760.\n",
        "\n",
        "How many of each type of bill are in the drawer? You can figure this out by trial and error (or by doing algebra with pencil and paper), but try to use loops and conditionals to check a plausible possibilities and stop when you find the correct one."
      ]
    },
    {
      "cell_type": "code",
      "metadata": {
        "id": "Q2Atz_kyR8_6",
        "colab_type": "code",
        "outputId": "6e48db8e-2f68-4fd7-f83e-edf8566dd148",
        "colab": {
          "base_uri": "https://localhost:8080/",
          "height": 35
        }
      },
      "source": [
        "# TODO your code here!\n",
        "for tens in range (0,160):\n",
        "    for fifties in range (0,160):\n",
        "      if tens + fifties != 160:\n",
        "          continue\n",
        "      if fifties * 50 + tens * 10 != 1760:\n",
        "          continue\n",
        "      print('10s: ', tens, ' and 50s: ', fifties)\n",
        "      break\n",
        "    else:\n",
        "      continue\n",
        "    break\n"
      ],
      "execution_count": 0,
      "outputs": [
        {
          "output_type": "stream",
          "text": [
            "10s:  156  and 50s:  4\n"
          ],
          "name": "stdout"
        }
      ]
    },
    {
      "cell_type": "markdown",
      "metadata": {
        "id": "UCFtX_q9aQlc",
        "colab_type": "text"
      },
      "source": [
        "## Exercise 2 - Drawing a plot\n",
        "\n",
        "Use NumPy and Matplotlib to draw a scatterplot of uniform random `(x, y)` values all drawn from the `[0, 1]` interval. Helpful documentation:\n",
        "\n",
        "*   https://matplotlib.org/tutorials/index.html\n",
        "*   https://docs.scipy.org/doc/numpy/user/quickstart.html\n",
        "\n",
        "Stretch goal - draw more plots! You can refer to the [Matplotlib gallery](https://matplotlib.org/gallery.html) for inspiration, but don't just reproduce something - try to apply it to your own data.\n",
        "\n",
        "How to get data? There's *many* ways, but a good place to get started is with [sklearn.datasets](http://scikit-learn.org/stable/datasets/index.html):\n",
        "\n",
        "```\n",
        "from sklearn import datasets\n",
        "dir(datasets)\n",
        "```"
      ]
    },
    {
      "cell_type": "code",
      "metadata": {
        "id": "pNEb09gMaltL",
        "colab_type": "code",
        "outputId": "7c88d173-d0a9-4d72-ecd6-78acbcd00a03",
        "colab": {
          "base_uri": "https://localhost:8080/",
          "height": 369
        }
      },
      "source": [
        "import matplotlib.pyplot as plt\n",
        "import numpy as np\n",
        "\n",
        "arrx = np.random.rand(3,1)\n",
        "# print(arrx)\n",
        "arry = np.random.rand(3,1)\n",
        "# print(arry)\n",
        "\n",
        "plt.plot(arrx, arry, 'ro')\n",
        "plt.xlim(0,1)\n",
        "plt.ylim(0,1)\n",
        "\n",
        "# arrb = np.random.rand(3,2)\n",
        "# print(arrb)\n",
        "# plt.plot(arrb,'ro')"
      ],
      "execution_count": 0,
      "outputs": [
        {
          "output_type": "execute_result",
          "data": {
            "text/plain": [
              "(0, 1)"
            ]
          },
          "metadata": {
            "tags": []
          },
          "execution_count": 3
        },
        {
          "output_type": "display_data",
          "data": {
            "image/png": "[encoded data removed]",
            "text/plain": [
              "<matplotlib.figure.Figure at 0x7f2f841b1e80>"
            ]
          },
          "metadata": {
            "tags": []
          }
        }
      ]
    },
    {
      "cell_type": "code",
      "metadata": {
        "id": "e7CMkx00qtSU",
        "colab_type": "code",
        "outputId": "557498b2-b90b-4d90-b9d0-2ff0c0887948",
        "colab": {
          "base_uri": "https://localhost:8080/",
          "height": 55
        }
      },
      "source": [
        "################################################################################\n",
        "'''\n",
        "Question - how could I get this to work with a np.random.rand(3,2) array (ie, a \n",
        " 2 column array)? Notice the last three lines commented out. I can't figure out\n",
        " how to set a certain column to x and a certain column to y. I know how to do \n",
        " this when the columns are named in a dataframe:\n",
        "  (ie, plt.plot(df['x column'], df['y column'], 'ro'))\n",
        " but I don't know how to call a specific column in an array\n",
        "'''\n",
        "################################################################################"
      ],
      "execution_count": 0,
      "outputs": [
        {
          "output_type": "execute_result",
          "data": {
            "text/plain": [
              "\"\\nQuestion - how could I get this to work with a np.random.rand(3,2) array (ie, a \\n 2 column array)? Notice the last three lines commented out. I can't figure out\\n how to set a certain column to x and a certain column to y. I know how to do \\n this when the columns are named in a dataframe:\\n  (ie, plt.plot(df['x column'], df['y column'], 'ro'))\\n but I don't know how to call a specific column in an array\\n\""
            ]
          },
          "metadata": {
            "tags": []
          },
          "execution_count": 4
        }
      ]
    },
    {
      "cell_type": "markdown",
      "metadata": {
        "id": "hGpFAslRhuem",
        "colab_type": "text"
      },
      "source": [
        "## Exercise 3 - Writing a function\n",
        "Write a function that, given a list of numbers, calculates the mean, median, and mode of those numbers. Return a dictionary with properties for the mean, median and mode. \n",
        "\n",
        "For example:\n",
        "\n",
        "```\n",
        "mmm_dict = meanMedianMode([1, 2, 6, 7, 8, 9, 3, 4, 5, 10, 10])\n",
        "print(mmm_dict)\n",
        "> {'mean': 5.909090909090909, 'median': 6, 'mode': 10}\n",
        "```\n",
        "\n",
        "There are Python standard libraries that make calculating these numbers very easy, but first try your hand at implementing it using the `reduce()` function:"
      ]
    },
    {
      "cell_type": "code",
      "metadata": {
        "id": "e8dmYzTmiXD_",
        "colab_type": "code",
        "outputId": "697f98c3-05f3-4169-bd4d-d1b37146ef9e",
        "colab": {
          "base_uri": "https://localhost:8080/",
          "height": 235
        }
      },
      "source": [
        "from functools import reduce\n",
        "help(reduce)"
      ],
      "execution_count": 0,
      "outputs": [
        {
          "output_type": "stream",
          "text": [
            "Help on built-in function reduce in module _functools:\n",
            "\n",
            "reduce(...)\n",
            "    reduce(function, sequence[, initial]) -> value\n",
            "    \n",
            "    Apply a function of two arguments cumulatively to the items of a sequence,\n",
            "    from left to right, so as to reduce the sequence to a single value.\n",
            "    For example, reduce(lambda x, y: x+y, [1, 2, 3, 4, 5]) calculates\n",
            "    ((((1+2)+3)+4)+5).  If initial is present, it is placed before the items\n",
            "    of the sequence in the calculation, and serves as a default when the\n",
            "    sequence is empty.\n",
            "\n"
          ],
          "name": "stdout"
        }
      ]
    },
    {
      "cell_type": "code",
      "metadata": {
        "id": "nmkk-CHvh0Nj",
        "colab_type": "code",
        "outputId": "3e9e5bd8-dcca-433d-8d7f-981ae30c0f23",
        "colab": {
          "base_uri": "https://localhost:8080/",
          "height": 35
        }
      },
      "source": [
        "from functools import reduce\n",
        "\n",
        "def findMean(numbers):\n",
        "  total = reduce(lambda x, y: x+y, numbers)\n",
        "  mean = total/len(numbers) \n",
        "#   print(mean)\n",
        "  return mean\n",
        "\n",
        "  \n",
        "def findMedian(numbers):\n",
        "  numbers.sort()\n",
        "  mid = len(numbers) // 2\n",
        "  if len(numbers) % 2 is 0 :\n",
        "    return findMean([numbers[mid], numbers[mid-1]])\n",
        "#   print(numbers[mid])\n",
        "  return numbers[mid]\n",
        "\n",
        "def findMode(numbers):\n",
        "  mode = None\n",
        "  mapping = {x: 0 for x in numbers}\n",
        "  greatestFrequency = 0\n",
        "  for n in numbers:\n",
        "      mapping[n] += 1\n",
        "      if mapping[n] > greatestFrequency:\n",
        "        greatestFrequency = mapping[n]\n",
        "        mode = n\n",
        "  return mode\n",
        "\n",
        "def meanMedianMode(numbers):\n",
        "  mmm_dict = {\n",
        "      'mean': findMean(numbers),\n",
        "      'median': findMedian(numbers),\n",
        "      'mode': findMode(numbers)\n",
        "  }\n",
        "#   print ('#'* 20)\n",
        "#   for keys, values in mmm_dict.items():\n",
        "#     print ((keys), '-->', (values))\n",
        "#     print ('*'* 20)\n",
        "#     print (keys)\n",
        "#     print (values)\n",
        "  return mmm_dict\n",
        "  \n",
        "values_list = [1, 2, 6, 7, 8, 7, 9, 3, 4, 5, 10, 10]\n",
        "mmm_dict = meanMedianMode(values_list) # note I added a couple 7s in there to test the things worked. I'm not sure what to do when there are multiple modes.\n",
        "print(mmm_dict)"
      ],
      "execution_count": 0,
      "outputs": [
        {
          "output_type": "stream",
          "text": [
            "{'mean': 6.0, 'median': 6.5, 'mode': 7}\n"
          ],
          "name": "stdout"
        }
      ]
    },
    {
      "cell_type": "code",
      "metadata": {
        "id": "Q9EtunhK9cM9",
        "colab_type": "code",
        "outputId": "5048f438-d970-415f-c85e-6cf42399c5cf",
        "colab": {
          "base_uri": "https://localhost:8080/",
          "height": 316
        }
      },
      "source": [
        "import statistics\n",
        "print(statistics.mode(values_list))"
      ],
      "execution_count": 0,
      "outputs": [
        {
          "output_type": "error",
          "ename": "StatisticsError",
          "evalue": "ignored",
          "traceback": [
            "\u001b[0;31m---------------------------------------------------------------------------\u001b[0m",
            "\u001b[0;31mStatisticsError\u001b[0m                           Traceback (most recent call last)",
            "\u001b[0;32m<ipython-input-7-c262beb33591>\u001b[0m in \u001b[0;36m<module>\u001b[0;34m()\u001b[0m\n\u001b[1;32m      1\u001b[0m \u001b[0;32mimport\u001b[0m \u001b[0mstatistics\u001b[0m\u001b[0;34m\u001b[0m\u001b[0;34m\u001b[0m\u001b[0m\n\u001b[0;32m----> 2\u001b[0;31m \u001b[0mprint\u001b[0m\u001b[0;34m(\u001b[0m\u001b[0mstatistics\u001b[0m\u001b[0;34m.\u001b[0m\u001b[0mmode\u001b[0m\u001b[0;34m(\u001b[0m\u001b[0mvalues_list\u001b[0m\u001b[0;34m)\u001b[0m\u001b[0;34m)\u001b[0m\u001b[0;34m\u001b[0m\u001b[0;34m\u001b[0m\u001b[0m\n\u001b[0m",
            "\u001b[0;32m/usr/lib/python3.6/statistics.py\u001b[0m in \u001b[0;36mmode\u001b[0;34m(data)\u001b[0m\n\u001b[1;32m    505\u001b[0m     \u001b[0;32melif\u001b[0m \u001b[0mtable\u001b[0m\u001b[0;34m:\u001b[0m\u001b[0;34m\u001b[0m\u001b[0;34m\u001b[0m\u001b[0m\n\u001b[1;32m    506\u001b[0m         raise StatisticsError(\n\u001b[0;32m--> 507\u001b[0;31m                 \u001b[0;34m'no unique mode; found %d equally common values'\u001b[0m \u001b[0;34m%\u001b[0m \u001b[0mlen\u001b[0m\u001b[0;34m(\u001b[0m\u001b[0mtable\u001b[0m\u001b[0;34m)\u001b[0m\u001b[0;34m\u001b[0m\u001b[0;34m\u001b[0m\u001b[0m\n\u001b[0m\u001b[1;32m    508\u001b[0m                 )\n\u001b[1;32m    509\u001b[0m     \u001b[0;32melse\u001b[0m\u001b[0;34m:\u001b[0m\u001b[0;34m\u001b[0m\u001b[0;34m\u001b[0m\u001b[0m\n",
            "\u001b[0;31mStatisticsError\u001b[0m: no unique mode; found 2 equally common values"
          ]
        }
      ]
    },
    {
      "cell_type": "code",
      "metadata": {
        "id": "6YLm8kSAIx0a",
        "colab_type": "code",
        "colab": {}
      },
      "source": [
        "################################################################################\n",
        "'''\n",
        "As you can see, there is no unique mode. \n",
        "'''\n",
        "################################################################################"
      ],
      "execution_count": 0,
      "outputs": []
    },
    {
      "cell_type": "code",
      "metadata": {
        "id": "EyU6Ymg-JRzl",
        "colab_type": "code",
        "outputId": "a770a47d-0ea2-4634-f959-77eab56a252c",
        "colab": {
          "base_uri": "https://localhost:8080/",
          "height": 72
        }
      },
      "source": [
        "from collections import Counter\n",
        "from itertools import takewhile\n",
        "\n",
        "freq = Counter(values_list)\n",
        "# print(freq)\n",
        "most_freq = freq.most_common()\n",
        "# print(most_freq)\n",
        "modes = list(takewhile(lambda x: x[1] == most_freq[0][1], most_freq))\n",
        "print(modes)"
      ],
      "execution_count": 0,
      "outputs": [
        {
          "output_type": "stream",
          "text": [
            "Counter({7: 2, 10: 2, 1: 1, 2: 1, 3: 1, 4: 1, 5: 1, 6: 1, 8: 1, 9: 1})\n",
            "[(7, 2), (10, 2), (1, 1), (2, 1), (3, 1), (4, 1), (5, 1), (6, 1), (8, 1), (9, 1)]\n",
            "[(7, 2), (10, 2)]\n"
          ],
          "name": "stdout"
        }
      ]
    },
    {
      "cell_type": "code",
      "metadata": {
        "id": "9vPaaznqJV3E",
        "colab_type": "code",
        "colab": {}
      },
      "source": [
        "################################################################################\n",
        "'''\n",
        "Above is some code I found online. It looks like what it is doing is:\n",
        " * Counter creates a dictionary of counted values. I'm not sure if it sorts them\n",
        " * most_common() puts it in a list with the most common values sorted first\n",
        " * Take while looks at the second value in each pair (the frequency) and returns\n",
        "   pairs until the frequency is less than the frequency of the first pair.\n",
        "   \n",
        "I like this method xD\n",
        "\n",
        "'''\n",
        "################################################################################"
      ],
      "execution_count": 0,
      "outputs": []
    }
  ]
}